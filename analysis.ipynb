{
 "cells": [
  {
   "cell_type": "code",
   "execution_count": 18,
   "id": "30f76626",
   "metadata": {},
   "outputs": [
    {
     "data": {
      "text/html": [
       "<div>\n",
       "<style scoped>\n",
       "    .dataframe tbody tr th:only-of-type {\n",
       "        vertical-align: middle;\n",
       "    }\n",
       "\n",
       "    .dataframe tbody tr th {\n",
       "        vertical-align: top;\n",
       "    }\n",
       "\n",
       "    .dataframe thead th {\n",
       "        text-align: right;\n",
       "    }\n",
       "</style>\n",
       "<table border=\"1\" class=\"dataframe\">\n",
       "  <thead>\n",
       "    <tr style=\"text-align: right;\">\n",
       "      <th></th>\n",
       "      <th>customer_id</th>\n",
       "      <th>age</th>\n",
       "      <th>income</th>\n",
       "      <th>region</th>\n",
       "      <th>risk_score</th>\n",
       "      <th>quote_amount</th>\n",
       "      <th>accepted</th>\n",
       "    </tr>\n",
       "  </thead>\n",
       "  <tbody>\n",
       "    <tr>\n",
       "      <th>0</th>\n",
       "      <td>101</td>\n",
       "      <td>28.0</td>\n",
       "      <td>30000</td>\n",
       "      <td>London</td>\n",
       "      <td>2.1</td>\n",
       "      <td>300.0</td>\n",
       "      <td>1</td>\n",
       "    </tr>\n",
       "    <tr>\n",
       "      <th>1</th>\n",
       "      <td>102</td>\n",
       "      <td>34.0</td>\n",
       "      <td>45000</td>\n",
       "      <td>Manchester</td>\n",
       "      <td>3.5</td>\n",
       "      <td>450.0</td>\n",
       "      <td>0</td>\n",
       "    </tr>\n",
       "    <tr>\n",
       "      <th>2</th>\n",
       "      <td>103</td>\n",
       "      <td>22.0</td>\n",
       "      <td>25000</td>\n",
       "      <td>London</td>\n",
       "      <td>1.8</td>\n",
       "      <td>NaN</td>\n",
       "      <td>1</td>\n",
       "    </tr>\n",
       "    <tr>\n",
       "      <th>3</th>\n",
       "      <td>104</td>\n",
       "      <td>45.0</td>\n",
       "      <td>52000</td>\n",
       "      <td>Leeds</td>\n",
       "      <td>2.9</td>\n",
       "      <td>510.0</td>\n",
       "      <td>1</td>\n",
       "    </tr>\n",
       "    <tr>\n",
       "      <th>4</th>\n",
       "      <td>105</td>\n",
       "      <td>NaN</td>\n",
       "      <td>38000</td>\n",
       "      <td>London</td>\n",
       "      <td>2.4</td>\n",
       "      <td>390.0</td>\n",
       "      <td>0</td>\n",
       "    </tr>\n",
       "  </tbody>\n",
       "</table>\n",
       "</div>"
      ],
      "text/plain": [
       "   customer_id   age  income      region  risk_score  quote_amount  accepted\n",
       "0          101  28.0   30000      London         2.1         300.0         1\n",
       "1          102  34.0   45000  Manchester         3.5         450.0         0\n",
       "2          103  22.0   25000      London         1.8           NaN         1\n",
       "3          104  45.0   52000       Leeds         2.9         510.0         1\n",
       "4          105   NaN   38000      London         2.4         390.0         0"
      ]
     },
     "execution_count": 18,
     "metadata": {},
     "output_type": "execute_result"
    }
   ],
   "source": [
    "import pandas as pd\n",
    "\n",
    "# Sample dataset\n",
    "data = {\n",
    "    \"customer_id\": [101, 102, 103, 104, 105],\n",
    "    \"age\": [28, 34, 22, 45, None],\n",
    "    \"income\": [30000, 45000, 25000, 52000, 38000],\n",
    "    \"region\": [\"London\", \"Manchester\", \"London\", \"Leeds\", \"London\"],\n",
    "    \"risk_score\": [2.1, 3.5, 1.8, 2.9, 2.4],  # Simulated risk rating\n",
    "    \"quote_amount\": [300.0, 450.0, None, 510.0, 390.0],\n",
    "    \"accepted\": [1, 0, 1, 1, 0]\n",
    "}\n",
    "\n",
    "df = pd.DataFrame(data)\n",
    "\n",
    "# Preview data\n",
    "df.head()\n"
   ]
  },
  {
   "cell_type": "code",
   "execution_count": 19,
   "id": "e4e9efe5",
   "metadata": {},
   "outputs": [
    {
     "name": "stdout",
     "output_type": "stream",
     "text": [
      "Shape: (5, 7)\n",
      "\n",
      "Missing values:\n",
      " customer_id     0\n",
      "age             1\n",
      "income          0\n",
      "region          0\n",
      "risk_score      0\n",
      "quote_amount    1\n",
      "accepted        0\n",
      "dtype: int64\n",
      "\n",
      "Info:\n",
      "\n",
      "<class 'pandas.core.frame.DataFrame'>\n",
      "RangeIndex: 5 entries, 0 to 4\n",
      "Data columns (total 7 columns):\n",
      " #   Column        Non-Null Count  Dtype  \n",
      "---  ------        --------------  -----  \n",
      " 0   customer_id   5 non-null      int64  \n",
      " 1   age           4 non-null      float64\n",
      " 2   income        5 non-null      int64  \n",
      " 3   region        5 non-null      object \n",
      " 4   risk_score    5 non-null      float64\n",
      " 5   quote_amount  4 non-null      float64\n",
      " 6   accepted      5 non-null      int64  \n",
      "dtypes: float64(3), int64(3), object(1)\n",
      "memory usage: 408.0+ bytes\n",
      "\n",
      "Describe:\n",
      "\n"
     ]
    },
    {
     "data": {
      "text/html": [
       "<div>\n",
       "<style scoped>\n",
       "    .dataframe tbody tr th:only-of-type {\n",
       "        vertical-align: middle;\n",
       "    }\n",
       "\n",
       "    .dataframe tbody tr th {\n",
       "        vertical-align: top;\n",
       "    }\n",
       "\n",
       "    .dataframe thead th {\n",
       "        text-align: right;\n",
       "    }\n",
       "</style>\n",
       "<table border=\"1\" class=\"dataframe\">\n",
       "  <thead>\n",
       "    <tr style=\"text-align: right;\">\n",
       "      <th></th>\n",
       "      <th>customer_id</th>\n",
       "      <th>age</th>\n",
       "      <th>income</th>\n",
       "      <th>risk_score</th>\n",
       "      <th>quote_amount</th>\n",
       "      <th>accepted</th>\n",
       "    </tr>\n",
       "  </thead>\n",
       "  <tbody>\n",
       "    <tr>\n",
       "      <th>count</th>\n",
       "      <td>5.000000</td>\n",
       "      <td>4.000000</td>\n",
       "      <td>5.000000</td>\n",
       "      <td>5.000000</td>\n",
       "      <td>4.000000</td>\n",
       "      <td>5.000000</td>\n",
       "    </tr>\n",
       "    <tr>\n",
       "      <th>mean</th>\n",
       "      <td>103.000000</td>\n",
       "      <td>32.250000</td>\n",
       "      <td>38000.000000</td>\n",
       "      <td>2.540000</td>\n",
       "      <td>412.500000</td>\n",
       "      <td>0.600000</td>\n",
       "    </tr>\n",
       "    <tr>\n",
       "      <th>std</th>\n",
       "      <td>1.581139</td>\n",
       "      <td>9.810708</td>\n",
       "      <td>10931.605555</td>\n",
       "      <td>0.673053</td>\n",
       "      <td>89.582364</td>\n",
       "      <td>0.547723</td>\n",
       "    </tr>\n",
       "    <tr>\n",
       "      <th>min</th>\n",
       "      <td>101.000000</td>\n",
       "      <td>22.000000</td>\n",
       "      <td>25000.000000</td>\n",
       "      <td>1.800000</td>\n",
       "      <td>300.000000</td>\n",
       "      <td>0.000000</td>\n",
       "    </tr>\n",
       "    <tr>\n",
       "      <th>25%</th>\n",
       "      <td>102.000000</td>\n",
       "      <td>26.500000</td>\n",
       "      <td>30000.000000</td>\n",
       "      <td>2.100000</td>\n",
       "      <td>367.500000</td>\n",
       "      <td>0.000000</td>\n",
       "    </tr>\n",
       "    <tr>\n",
       "      <th>50%</th>\n",
       "      <td>103.000000</td>\n",
       "      <td>31.000000</td>\n",
       "      <td>38000.000000</td>\n",
       "      <td>2.400000</td>\n",
       "      <td>420.000000</td>\n",
       "      <td>1.000000</td>\n",
       "    </tr>\n",
       "    <tr>\n",
       "      <th>75%</th>\n",
       "      <td>104.000000</td>\n",
       "      <td>36.750000</td>\n",
       "      <td>45000.000000</td>\n",
       "      <td>2.900000</td>\n",
       "      <td>465.000000</td>\n",
       "      <td>1.000000</td>\n",
       "    </tr>\n",
       "    <tr>\n",
       "      <th>max</th>\n",
       "      <td>105.000000</td>\n",
       "      <td>45.000000</td>\n",
       "      <td>52000.000000</td>\n",
       "      <td>3.500000</td>\n",
       "      <td>510.000000</td>\n",
       "      <td>1.000000</td>\n",
       "    </tr>\n",
       "  </tbody>\n",
       "</table>\n",
       "</div>"
      ],
      "text/plain": [
       "       customer_id        age        income  risk_score  quote_amount  \\\n",
       "count     5.000000   4.000000      5.000000    5.000000      4.000000   \n",
       "mean    103.000000  32.250000  38000.000000    2.540000    412.500000   \n",
       "std       1.581139   9.810708  10931.605555    0.673053     89.582364   \n",
       "min     101.000000  22.000000  25000.000000    1.800000    300.000000   \n",
       "25%     102.000000  26.500000  30000.000000    2.100000    367.500000   \n",
       "50%     103.000000  31.000000  38000.000000    2.400000    420.000000   \n",
       "75%     104.000000  36.750000  45000.000000    2.900000    465.000000   \n",
       "max     105.000000  45.000000  52000.000000    3.500000    510.000000   \n",
       "\n",
       "       accepted  \n",
       "count  5.000000  \n",
       "mean   0.600000  \n",
       "std    0.547723  \n",
       "min    0.000000  \n",
       "25%    0.000000  \n",
       "50%    1.000000  \n",
       "75%    1.000000  \n",
       "max    1.000000  "
      ]
     },
     "execution_count": 19,
     "metadata": {},
     "output_type": "execute_result"
    }
   ],
   "source": [
    "# Get number of rows/columns\n",
    "print(\"Shape:\", df.shape)\n",
    "\n",
    "# Check for missing values\n",
    "print(\"\\nMissing values:\\n\", df.isnull().sum())\n",
    "\n",
    "# Get data types and non-null counts\n",
    "print(\"\\nInfo:\\n\")\n",
    "df.info()\n",
    "\n",
    "# Descriptive stats (mean, std, etc.)\n",
    "print(\"\\nDescribe:\\n\")\n",
    "df.describe()\n"
   ]
  },
  {
   "cell_type": "code",
   "execution_count": 20,
   "id": "0dee65a3",
   "metadata": {},
   "outputs": [
    {
     "name": "stderr",
     "output_type": "stream",
     "text": [
      "/var/folders/23/vwtfbyf91z545xxmvnlv_9q40000gp/T/ipykernel_8790/3317212811.py:2: FutureWarning: A value is trying to be set on a copy of a DataFrame or Series through chained assignment using an inplace method.\n",
      "The behavior will change in pandas 3.0. This inplace method will never work because the intermediate object on which we are setting values always behaves as a copy.\n",
      "\n",
      "For example, when doing 'df[col].method(value, inplace=True)', try using 'df.method({col: value}, inplace=True)' or df[col] = df[col].method(value) instead, to perform the operation inplace on the original object.\n",
      "\n",
      "\n",
      "  df[\"age\"].fillna(df[\"age\"].mean(), inplace=True)\n"
     ]
    },
    {
     "data": {
      "text/plain": [
       "customer_id     0\n",
       "age             0\n",
       "income          0\n",
       "region          0\n",
       "risk_score      0\n",
       "quote_amount    0\n",
       "accepted        0\n",
       "dtype: int64"
      ]
     },
     "execution_count": 20,
     "metadata": {},
     "output_type": "execute_result"
    }
   ],
   "source": [
    "# Fill missing age with average age\n",
    "df[\"age\"].fillna(df[\"age\"].mean(), inplace=True)\n",
    "\n",
    "# Drop rows where quote_amount is missing\n",
    "df.dropna(subset=[\"quote_amount\"], inplace=True)\n",
    "\n",
    "# Confirm fixes\n",
    "df.isnull().sum()\n"
   ]
  },
  {
   "cell_type": "code",
   "execution_count": 21,
   "id": "37e413c3",
   "metadata": {},
   "outputs": [
    {
     "data": {
      "text/plain": [
       "region\n",
       "Leeds         510.0\n",
       "London        345.0\n",
       "Manchester    450.0\n",
       "Name: quote_amount, dtype: float64"
      ]
     },
     "execution_count": 21,
     "metadata": {},
     "output_type": "execute_result"
    }
   ],
   "source": [
    "# Average quote amount by region\n",
    "df.groupby(\"region\")[\"quote_amount\"].mean()\n"
   ]
  },
  {
   "cell_type": "code",
   "execution_count": 22,
   "id": "1bc94ee6",
   "metadata": {},
   "outputs": [
    {
     "data": {
      "text/plain": [
       "region\n",
       "Leeds         1.0\n",
       "London        0.5\n",
       "Manchester    0.0\n",
       "Name: accepted, dtype: float64"
      ]
     },
     "execution_count": 22,
     "metadata": {},
     "output_type": "execute_result"
    }
   ],
   "source": [
    "# How many customers accepted quotes per region\n",
    "df.groupby(\"region\")[\"accepted\"].mean()\n"
   ]
  },
  {
   "cell_type": "code",
   "execution_count": 23,
   "id": "806cc418",
   "metadata": {},
   "outputs": [
    {
     "data": {
      "text/plain": [
       "np.float64(1.0)"
      ]
     },
     "execution_count": 23,
     "metadata": {},
     "output_type": "execute_result"
    }
   ],
   "source": [
    "df[df[\"age\"] < 30][\"accepted\"].mean()\n"
   ]
  },
  {
   "cell_type": "code",
   "execution_count": 24,
   "id": "f4cebed9",
   "metadata": {},
   "outputs": [
    {
     "data": {
      "image/png": "[encoded data removed]",
      "text/plain": [
       "<Figure size 640x480 with 1 Axes>"
      ]
     },
     "metadata": {},
     "output_type": "display_data"
    }
   ],
   "source": [
    "import matplotlib.pyplot as plt\n",
    "\n",
    "df.groupby(\"region\")[\"accepted\"].mean().plot(kind=\"bar\", color=\"skyblue\")\n",
    "plt.title(\"Acceptance Rate by Region\")\n",
    "plt.xlabel(\"Region\")\n",
    "plt.ylabel(\"Acceptance Rate\")\n",
    "plt.show()\n"
   ]
  },
  {
   "cell_type": "code",
   "execution_count": 25,
   "id": "e566aa6c",
   "metadata": {},
   "outputs": [
    {
     "data": {
      "text/html": [
       "<div>\n",
       "<style scoped>\n",
       "    .dataframe tbody tr th:only-of-type {\n",
       "        vertical-align: middle;\n",
       "    }\n",
       "\n",
       "    .dataframe tbody tr th {\n",
       "        vertical-align: top;\n",
       "    }\n",
       "\n",
       "    .dataframe thead th {\n",
       "        text-align: right;\n",
       "    }\n",
       "</style>\n",
       "<table border=\"1\" class=\"dataframe\">\n",
       "  <thead>\n",
       "    <tr style=\"text-align: right;\">\n",
       "      <th></th>\n",
       "      <th>customer_id</th>\n",
       "      <th>quote_amount</th>\n",
       "      <th>age</th>\n",
       "      <th>income</th>\n",
       "      <th>price_per_age</th>\n",
       "      <th>price_per_income</th>\n",
       "    </tr>\n",
       "  </thead>\n",
       "  <tbody>\n",
       "    <tr>\n",
       "      <th>0</th>\n",
       "      <td>101</td>\n",
       "      <td>300.0</td>\n",
       "      <td>28.00</td>\n",
       "      <td>30000</td>\n",
       "      <td>10.714286</td>\n",
       "      <td>0.010000</td>\n",
       "    </tr>\n",
       "    <tr>\n",
       "      <th>1</th>\n",
       "      <td>102</td>\n",
       "      <td>450.0</td>\n",
       "      <td>34.00</td>\n",
       "      <td>45000</td>\n",
       "      <td>13.235294</td>\n",
       "      <td>0.010000</td>\n",
       "    </tr>\n",
       "    <tr>\n",
       "      <th>3</th>\n",
       "      <td>104</td>\n",
       "      <td>510.0</td>\n",
       "      <td>45.00</td>\n",
       "      <td>52000</td>\n",
       "      <td>11.333333</td>\n",
       "      <td>0.009808</td>\n",
       "    </tr>\n",
       "    <tr>\n",
       "      <th>4</th>\n",
       "      <td>105</td>\n",
       "      <td>390.0</td>\n",
       "      <td>32.25</td>\n",
       "      <td>38000</td>\n",
       "      <td>12.093023</td>\n",
       "      <td>0.010263</td>\n",
       "    </tr>\n",
       "  </tbody>\n",
       "</table>\n",
       "</div>"
      ],
      "text/plain": [
       "   customer_id  quote_amount    age  income  price_per_age  price_per_income\n",
       "0          101         300.0  28.00   30000      10.714286          0.010000\n",
       "1          102         450.0  34.00   45000      13.235294          0.010000\n",
       "3          104         510.0  45.00   52000      11.333333          0.009808\n",
       "4          105         390.0  32.25   38000      12.093023          0.010263"
      ]
     },
     "execution_count": 25,
     "metadata": {},
     "output_type": "execute_result"
    }
   ],
   "source": [
    "# Create derived metrics\n",
    "df[\"price_per_age\"] = df[\"quote_amount\"] / df[\"age\"]\n",
    "df[\"price_per_income\"] = df[\"quote_amount\"] / df[\"income\"]\n",
    "\n",
    "# Preview the new metrics\n",
    "df[[\"customer_id\", \"quote_amount\", \"age\", \"income\", \"price_per_age\", \"price_per_income\"]]\n"
   ]
  },
  {
   "cell_type": "code",
   "execution_count": 26,
   "id": "a70d7026",
   "metadata": {},
   "outputs": [
    {
     "data": {
      "text/html": [
       "<div>\n",
       "<style scoped>\n",
       "    .dataframe tbody tr th:only-of-type {\n",
       "        vertical-align: middle;\n",
       "    }\n",
       "\n",
       "    .dataframe tbody tr th {\n",
       "        vertical-align: top;\n",
       "    }\n",
       "\n",
       "    .dataframe thead th {\n",
       "        text-align: right;\n",
       "    }\n",
       "</style>\n",
       "<table border=\"1\" class=\"dataframe\">\n",
       "  <thead>\n",
       "    <tr style=\"text-align: right;\">\n",
       "      <th></th>\n",
       "      <th>region</th>\n",
       "      <th>accepted</th>\n",
       "      <th>target_acceptance_rate</th>\n",
       "    </tr>\n",
       "  </thead>\n",
       "  <tbody>\n",
       "    <tr>\n",
       "      <th>0</th>\n",
       "      <td>London</td>\n",
       "      <td>1</td>\n",
       "      <td>0.6</td>\n",
       "    </tr>\n",
       "    <tr>\n",
       "      <th>1</th>\n",
       "      <td>Manchester</td>\n",
       "      <td>0</td>\n",
       "      <td>0.4</td>\n",
       "    </tr>\n",
       "    <tr>\n",
       "      <th>2</th>\n",
       "      <td>Leeds</td>\n",
       "      <td>1</td>\n",
       "      <td>0.8</td>\n",
       "    </tr>\n",
       "    <tr>\n",
       "      <th>3</th>\n",
       "      <td>London</td>\n",
       "      <td>0</td>\n",
       "      <td>0.6</td>\n",
       "    </tr>\n",
       "  </tbody>\n",
       "</table>\n",
       "</div>"
      ],
      "text/plain": [
       "       region  accepted  target_acceptance_rate\n",
       "0      London         1                     0.6\n",
       "1  Manchester         0                     0.4\n",
       "2       Leeds         1                     0.8\n",
       "3      London         0                     0.6"
      ]
     },
     "execution_count": 26,
     "metadata": {},
     "output_type": "execute_result"
    }
   ],
   "source": [
    "# Simulated business targets for acceptance rate per region\n",
    "targets = pd.DataFrame({\n",
    "    \"region\": [\"London\", \"Manchester\", \"Leeds\"],\n",
    "    \"target_acceptance_rate\": [0.6, 0.4, 0.8]\n",
    "})\n",
    "\n",
    "# Merge on region\n",
    "merged = pd.merge(df, targets, on=\"region\", how=\"left\")\n",
    "\n",
    "# View merged result\n",
    "merged[[\"region\", \"accepted\", \"target_acceptance_rate\"]]\n"
   ]
  },
  {
   "cell_type": "code",
   "execution_count": 27,
   "id": "714cfc11",
   "metadata": {},
   "outputs": [
    {
     "data": {
      "text/html": [
       "<div>\n",
       "<style scoped>\n",
       "    .dataframe tbody tr th:only-of-type {\n",
       "        vertical-align: middle;\n",
       "    }\n",
       "\n",
       "    .dataframe tbody tr th {\n",
       "        vertical-align: top;\n",
       "    }\n",
       "\n",
       "    .dataframe thead th {\n",
       "        text-align: right;\n",
       "    }\n",
       "</style>\n",
       "<table border=\"1\" class=\"dataframe\">\n",
       "  <thead>\n",
       "    <tr style=\"text-align: right;\">\n",
       "      <th></th>\n",
       "      <th>region</th>\n",
       "      <th>accepted</th>\n",
       "      <th>target_acceptance_rate</th>\n",
       "      <th>meets_target</th>\n",
       "    </tr>\n",
       "  </thead>\n",
       "  <tbody>\n",
       "    <tr>\n",
       "      <th>0</th>\n",
       "      <td>Leeds</td>\n",
       "      <td>1.0</td>\n",
       "      <td>0.8</td>\n",
       "      <td>True</td>\n",
       "    </tr>\n",
       "    <tr>\n",
       "      <th>1</th>\n",
       "      <td>London</td>\n",
       "      <td>0.5</td>\n",
       "      <td>0.6</td>\n",
       "      <td>False</td>\n",
       "    </tr>\n",
       "    <tr>\n",
       "      <th>2</th>\n",
       "      <td>Manchester</td>\n",
       "      <td>0.0</td>\n",
       "      <td>0.4</td>\n",
       "      <td>False</td>\n",
       "    </tr>\n",
       "  </tbody>\n",
       "</table>\n",
       "</div>"
      ],
      "text/plain": [
       "       region  accepted  target_acceptance_rate  meets_target\n",
       "0       Leeds       1.0                     0.8          True\n",
       "1      London       0.5                     0.6         False\n",
       "2  Manchester       0.0                     0.4         False"
      ]
     },
     "execution_count": 27,
     "metadata": {},
     "output_type": "execute_result"
    }
   ],
   "source": [
    "# Compare actual vs target acceptance\n",
    "actual_vs_target = merged.groupby(\"region\").agg({\n",
    "    \"accepted\": \"mean\",\n",
    "    \"target_acceptance_rate\": \"first\"\n",
    "}).reset_index()\n",
    "\n",
    "# Add success flag\n",
    "actual_vs_target[\"meets_target\"] = actual_vs_target[\"accepted\"] >= actual_vs_target[\"target_acceptance_rate\"]\n",
    "\n",
    "actual_vs_target\n"
   ]
  },
  {
   "cell_type": "code",
   "execution_count": 28,
   "id": "e786adf6",
   "metadata": {},
   "outputs": [
    {
     "data": {
      "image/png": "[encoded data removed]",
      "text/plain": [
       "<Figure size 800x400 with 1 Axes>"
      ]
     },
     "metadata": {},
     "output_type": "display_data"
    }
   ],
   "source": [
    "import matplotlib.pyplot as plt\n",
    "\n",
    "plt.figure(figsize=(8, 4))\n",
    "plt.bar(actual_vs_target[\"region\"], actual_vs_target[\"accepted\"], label=\"Actual\", alpha=0.7)\n",
    "plt.plot(actual_vs_target[\"region\"], actual_vs_target[\"target_acceptance_rate\"], label=\"Target\", color=\"red\", linestyle=\"--\")\n",
    "plt.legend()\n",
    "plt.title(\"Actual vs Target Acceptance Rates by Region\")\n",
    "plt.ylabel(\"Acceptance Rate\")\n",
    "plt.show()\n"
   ]
  }
 ],
 "metadata": {
  "kernelspec": {
   "display_name": "venv",
   "language": "python",
   "name": "python3"
  },
  "language_info": {
   "codemirror_mode": {
    "name": "ipython",
    "version": 3
   },
   "file_extension": ".py",
   "mimetype": "text/x-python",
   "name": "python",
   "nbconvert_exporter": "python",
   "pygments_lexer": "ipython3",
   "version": "3.9.6"
  }
 },
 "nbformat": 4,
 "nbformat_minor": 5
}
